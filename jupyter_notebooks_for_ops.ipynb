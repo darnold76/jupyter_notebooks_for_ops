{
 "cells": [
  {
   "cell_type": "markdown",
   "metadata": {
    "slideshow": {
     "slide_type": "slide"
    }
   },
   "source": [
    "<h1>Jupyter Notebooks for Ops</h1>\n",
    "<h3>LISA 2019</h3>\n",
    "<h3>Derek Arnold</h3>"
   ]
  },
  {
   "cell_type": "markdown",
   "metadata": {
    "slideshow": {
     "slide_type": "slide"
    }
   },
   "source": [
    "## Objectives\n",
    "* An introduction/history of Jupyter Notebooks (aka \"How Did We Get Here?\")\n",
    "* How they can be used in ways pertinent to ops folks (aka \"What Do We Do Here?\")\n",
    "* How they can be maintained to facilitate use for non-ops folks (aka \"How Can We Help These Folks Here?\")\n",
    "* What's next? (aka \"What's Next?\")"
   ]
  },
  {
   "cell_type": "markdown",
   "metadata": {
    "slideshow": {
     "slide_type": "slide"
    }
   },
   "source": [
    "## Introduction\n"
   ]
  },
  {
   "cell_type": "markdown",
   "metadata": {
    "slideshow": {
     "slide_type": "-"
    }
   },
   "source": [
    "### Who are you? What do you do?\n",
    "\n",
    "* Current employer: N/A\n",
    "*  A tech professional for ~20 years in various sectors (consulting, telecommunications, public sector, manufacturing) \n",
    "  *  System administration (Linux mostly, some other UNIX, some Windows)\n",
    "  *  many technical hats\n",
    "*  Enjoy trying to use tools to provide solutions in novel ways\n",
    "*  My fifth LISA (FIF!)"
   ]
  },
  {
   "cell_type": "markdown",
   "metadata": {
    "slideshow": {
     "slide_type": "slide"
    }
   },
   "source": [
    "## How did we get here?"
   ]
  },
  {
   "cell_type": "markdown",
   "metadata": {
    "slideshow": {
     "slide_type": "-"
    }
   },
   "source": [
    "### What are Jupyter Notebooks?\n",
    "\n",
    "Formal definition from [Project Jupyter](https://jupyter.org):\n",
    "<br/>\n",
    "    <blockquote>“The Jupyter Notebook is an open-source web application that allows you to create and share documents that contain live code, equations, visualizations and explanatory text. Uses include: data cleaning and transformation, numerical simulation, statistical modeling, machine learning and much more.”</blockquote>\n",
    "    "
   ]
  },
  {
   "cell_type": "markdown",
   "metadata": {
    "slideshow": {
     "slide_type": "slide"
    }
   },
   "source": [
    "## How did we get here?"
   ]
  },
  {
   "cell_type": "markdown",
   "metadata": {},
   "source": [
    "### What specifically is a Jupyter Notebook?\n",
    "\n",
    "Jupyter Notebooks are a mix of three distinct components (all maintained by Project Jupyter:\n",
    "The entire project is 100% open source under the 3-clause BSD license.\n",
    "\n",
    "* The notebook document format, (based on JSON) \n",
    "* The interactive computing protocol, (based on ZeroMQ and Websockets\n",
    "* The kernel, (the default is iPython's Python kernel)\\*\n",
    "    \n",
    "![Diagram of Jupyter Notebooks](images/notebook_components.png \"Notebook Components\")\n",
    "\n",
    "\n",
    "\n",
    "\\* more on this later"
   ]
  },
  {
   "cell_type": "markdown",
   "metadata": {
    "slideshow": {
     "slide_type": "slide"
    }
   },
   "source": [
    "## How did we get here?"
   ]
  },
  {
   "cell_type": "markdown",
   "metadata": {
    "slideshow": {
     "slide_type": "slide"
    }
   },
   "source": [
    "## What is iPython?\n",
    "\n",
    "* iPython runs the Python in the notebook\n",
    "* Reference for any other kernel for Jupyter Notebooks\n",
    "* interesting way to run Python in its own right"
   ]
  },
  {
   "cell_type": "markdown",
   "metadata": {
    "slideshow": {
     "slide_type": "slide"
    }
   },
   "source": [
    "## What Do We Do Here?"
   ]
  },
  {
   "cell_type": "markdown",
   "metadata": {
    "slideshow": {
     "slide_type": "slide"
    }
   },
   "source": [
    "## Installing Jupyter Notebooks\n",
    "\n",
    "*  pip install jupyter\n",
    "*  conda install jupyter\n",
    "\n",
    "PSA: Please use virtual environments or, put another way..."
   ]
  },
  {
   "cell_type": "markdown",
   "metadata": {
    "slideshow": {
     "slide_type": "slide"
    }
   },
   "source": [
    "# Please don't use system Python for applications. You will likely regret it later."
   ]
  },
  {
   "cell_type": "markdown",
   "metadata": {
    "slideshow": {
     "slide_type": "slide"
    }
   },
   "source": [
    "## What Do We Do Here?"
   ]
  },
  {
   "cell_type": "markdown",
   "metadata": {
    "slideshow": {
     "slide_type": "fragment"
    }
   },
   "source": [
    "*  Run Python\n",
    "  * Write Python in notebooks\n",
    "  * Use shortcuts in notebooks"
   ]
  },
  {
   "cell_type": "markdown",
   "metadata": {
    "slideshow": {
     "slide_type": "fragment"
    }
   },
   "source": [
    "*  Run command-line executables in notebooks"
   ]
  },
  {
   "cell_type": "markdown",
   "metadata": {
    "slideshow": {
     "slide_type": "fragment"
    }
   },
   "source": [
    "*  Now let's do it in (enter name of language here)\n",
    "  *  Python == default language\n",
    "  *  With additional kernels, the number of supported languages > 100 [Jupyter Kernels](https://github.com/jupyter/jupyter/wiki/Jupyter-kernels)\n"
   ]
  },
  {
   "cell_type": "markdown",
   "metadata": {
    "slideshow": {
     "slide_type": "slide"
    }
   },
   "source": [
    "## How Can We Help These Folks Here?\n",
    "- JupyterHub == Multi-user Jupyter Notebook instance\n",
    "  - [The Littlest JupyterHub](https://the-littlest-jupyterhub.readthedocs.io/en/latest/)\n",
    "  - [Zero to JupyterHub in Kubernetes](https://zero-to-jupyterhub.readthedocs.io/en/latest/)\n",
    "\n"
   ]
  },
  {
   "cell_type": "markdown",
   "metadata": {
    "slideshow": {
     "slide_type": "slide"
    }
   },
   "source": [
    "## What's Next?"
   ]
  },
  {
   "cell_type": "markdown",
   "metadata": {
    "slideshow": {
     "slide_type": "fragment"
    }
   },
   "source": [
    "*  JupyterLab\n",
    "  * Next iteration of Jupyter Notebooks\n",
    "  * \"JupyterLab is a web-based interactive development environment for Jupyter notebooks, code, and data. JupyterLab is flexible: configure and arrange the user interface to support a wide range of workflows in data science, scientific computing, and machine learning. JupyterLab is extensible and modular: write plugins that add new components and integrate with existing ones.\""
   ]
  },
  {
   "cell_type": "markdown",
   "metadata": {
    "slideshow": {
     "slide_type": "slide"
    }
   },
   "source": [
    "## What's Next?"
   ]
  },
  {
   "cell_type": "markdown",
   "metadata": {
    "slideshow": {
     "slide_type": "fragment"
    }
   },
   "source": [
    "*  Azure Notebooks\n",
    "  *  Cloud-based hosting of Jupyter Notebooks\n",
    "  *  Provides support for R & F# in addition to Python"
   ]
  },
  {
   "cell_type": "markdown",
   "metadata": {
    "slideshow": {
     "slide_type": "slide"
    }
   },
   "source": [
    "## What's Next?"
   ]
  },
  {
   "cell_type": "markdown",
   "metadata": {
    "slideshow": {
     "slide_type": "fragment"
    }
   },
   "source": [
    "*  Polynote (from Netflix)\n",
    "  *  At the time of this talk, has only been open sourced for a week. For more info, visit the website [polynote](https://polynote.org) "
   ]
  },
  {
   "cell_type": "markdown",
   "metadata": {
    "slideshow": {
     "slide_type": "slide"
    }
   },
   "source": [
    "## Contact\n",
    "* GitHub: [darnold76](https://github.com/darnold76)\n",
    "* Twitter: [@darnold0714](https://www.twitter.com/darnold0714)\n",
    "* LinkedIn: [https://www.linkedin.com/in/derek-a-arnold](https://www.linkedin.com/in/derek-a-arnold)"
   ]
  },
  {
   "cell_type": "markdown",
   "metadata": {
    "slideshow": {
     "slide_type": "slide"
    }
   },
   "source": [
    "## References/Resources\n",
    "- Jupyter Project Website https://www.jupyter.org\n",
    "- Jupyter Notebook Documentation https://jupyter-notebook.readthedocs.io/\n",
    "- iPython Documentation https://ipython.readthedocs.io/en/stable/overview.html\n",
    "- Azure Notebooks Documentation https://docs.microsoft.com/en-us/azure/notebooks\n",
    "- RISE Documentation https://rise.readthedocs.io/en/maint-5.5/\n",
    "- Real Python:\"Jupyter Notebook: An Introduction https://realpython.com/jupyter-notebook-introduction/\n",
    "- Python Data Science Handbook by Jake VanderPlas https://github.com/jakevdp/PythonDataScienceHandbook\n",
    "\n"
   ]
  },
  {
   "cell_type": "markdown",
   "metadata": {
    "slideshow": {
     "slide_type": "slide"
    }
   },
   "source": [
    "### Thank yous:\n",
    "* You\n",
    "* USENIX staff & board \n",
    "* The LISA19 Program Committee & all who have volunteered somewhow (and the peoiple holding it down at work that allowed us to come here)\n",
    "* You, again, if you have ever encouraged someone to expand their knowledge by sharing what they know"
   ]
  },
  {
   "cell_type": "markdown",
   "metadata": {
    "slideshow": {
     "slide_type": "slide"
    }
   },
   "source": [
    "<center>FIN</center>\n",
    "\n"
   ]
  }
 ],
 "metadata": {
  "celltoolbar": "Slideshow",
  "kernelspec": {
   "display_name": "Python 3",
   "language": "python",
   "name": "python3"
  },
  "language_info": {
   "codemirror_mode": {
    "name": "ipython",
    "version": 3
   },
   "file_extension": ".py",
   "mimetype": "text/x-python",
   "name": "python",
   "nbconvert_exporter": "python",
   "pygments_lexer": "ipython3",
   "version": "3.7.4"
  },
  "rise": {
   "autolaunch": false,
   "footer": "<h3>LISA19:Jupyter Notebooks for Ops</h3>"
  }
 },
 "nbformat": 4,
 "nbformat_minor": 2
}
