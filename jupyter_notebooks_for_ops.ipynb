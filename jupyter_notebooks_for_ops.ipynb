{
 "cells": [
  {
   "cell_type": "markdown",
   "metadata": {
    "slideshow": {
     "slide_type": "slide"
    }
   },
   "source": [
    "# Jupyter Notebooks for Ops\n",
    "## LISA 2019\n",
    "## Derek Arnold"
   ]
  },
  {
   "cell_type": "markdown",
   "metadata": {
    "slideshow": {
     "slide_type": "slide"
    }
   },
   "source": [
    "## Objectives\n",
    "- An introduction/history of Jupyter Notebooks (aka \"How Did We Get Here?\")\n",
    "- How they can be used in ways pertinent to ops folks (aka \"What Do We Do Here?\")\n",
    "- How they can be maintained to facilitate use for non-ops folks (aka \"How Can We Help These Folks Here?\")\n",
    "- What's next? (aka \"What's Next?\")"
   ]
  },
  {
   "cell_type": "markdown",
   "metadata": {
    "slideshow": {
     "slide_type": "slide"
    }
   },
   "source": [
    "## Why Me? Why This?\n",
    "* In Tech for 20+ Years \n",
    "  * System administration (Linux mostly, some other UNIX, some Windows), user support, web development, project management, coaching\n",
    "* My fifth LISA (FIF!)\n",
    "* Python == helpful; Jupyter Notebooks == extremely helpful\n"
   ]
  },
  {
   "cell_type": "markdown",
   "metadata": {
    "slideshow": {
     "slide_type": "slide"
    }
   },
   "source": [
    "## How did we get here?\n",
    "* What is REPL?\n",
    "  * \n"
   ]
  },
  {
   "cell_type": "markdown",
   "metadata": {
    "slideshow": {
     "slide_type": "slide"
    }
   },
   "source": [
    "## How did we get here?\n",
    "- iPython\n"
   ]
  },
  {
   "cell_type": "markdown",
   "metadata": {
    "slideshow": {
     "slide_type": "slide"
    }
   },
   "source": [
    "## How did we get here?\n",
    "- Jupyter\n"
   ]
  },
  {
   "cell_type": "markdown",
   "metadata": {
    "slideshow": {
     "slide_type": "slide"
    }
   },
   "source": [
    "## What Do We Do Here?\n",
    "- Anything Python\n",
    "\n"
   ]
  },
  {
   "cell_type": "markdown",
   "metadata": {
    "slideshow": {
     "slide_type": "slide"
    }
   },
   "source": [
    "## What Do We Do Here?\n",
    "- Prototyping Python \n",
    "\n"
   ]
  },
  {
   "cell_type": "markdown",
   "metadata": {
    "slideshow": {
     "slide_type": "slide"
    }
   },
   "source": [
    "## What Do We Do Here?\n",
    "* Data analysis, display and manipulation\n",
    "\n"
   ]
  },
  {
   "cell_type": "markdown",
   "metadata": {
    "slideshow": {
     "slide_type": "slide"
    }
   },
   "source": [
    "## What Do We Do Here?\n",
    "- Now let's do it in (enter name of language here)\n",
    "\n"
   ]
  },
  {
   "cell_type": "markdown",
   "metadata": {
    "slideshow": {
     "slide_type": "slide"
    }
   },
   "source": [
    "## How Can We Help These Folks Here?\n",
    "- JupyterHub\n",
    "\n"
   ]
  },
  {
   "cell_type": "markdown",
   "metadata": {
    "slideshow": {
     "slide_type": "slide"
    }
   },
   "source": [
    "## What's Next?\n",
    "- Azure Notebooks\n",
    "\n"
   ]
  },
  {
   "cell_type": "markdown",
   "metadata": {
    "slideshow": {
     "slide_type": "slide"
    }
   },
   "source": [
    "## References/Resources\n",
    "- Jupyter Project Website https://www.jupyter.org\n",
    "- Jupyter Notebook Documentation https://jupyter-notebook.readthedocs.io/\n",
    "- iPython Documentation https://ipython.readthedocs.io/en/stable/overview.html\n"
   ]
  },
  {
   "cell_type": "markdown",
   "metadata": {
    "slideshow": {
     "slide_type": "slide"
    }
   },
   "source": [
    "## Contact\n",
    "* GitHub: [darnold76](https://github.com/darnold76)\n",
    "* Twitter: [@darnold0714](https://www.twitter.com/darnold0714)\n",
    "* LinkedIn: [https://www.linkedin.com/in/derek-a-arnold](https://www.linkedin.com/in/derek-a-arnold)"
   ]
  },
  {
   "cell_type": "markdown",
   "metadata": {
    "slideshow": {
     "slide_type": "slide"
    }
   },
   "source": [
    "### Thank yous:\n",
    "* You\n",
    "* USENIX\n",
    "* LISA\n",
    "* You, again, if you have ever encouraged someone to expand their knowledge by sharing what they know"
   ]
  },
  {
   "cell_type": "code",
   "execution_count": null,
   "metadata": {},
   "outputs": [],
   "source": []
  }
 ],
 "metadata": {
  "celltoolbar": "Slideshow",
  "kernelspec": {
   "display_name": "Python 3",
   "language": "python",
   "name": "python3"
  },
  "language_info": {
   "codemirror_mode": {
    "name": "ipython",
    "version": 3
   },
   "file_extension": ".py",
   "mimetype": "text/x-python",
   "name": "python",
   "nbconvert_exporter": "python",
   "pygments_lexer": "ipython3",
   "version": "3.7.4"
  }
 },
 "nbformat": 4,
 "nbformat_minor": 2
}
